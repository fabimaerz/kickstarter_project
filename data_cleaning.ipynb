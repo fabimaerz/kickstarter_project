{
 "cells": [
  {
   "cell_type": "markdown",
   "metadata": {},
   "source": [
    "# Choose features"
   ]
  },
  {
   "cell_type": "markdown",
   "metadata": {},
   "source": [
    "## Casual imports"
   ]
  },
  {
   "cell_type": "code",
   "execution_count": 1,
   "metadata": {},
   "outputs": [],
   "source": [
    "import pandas as pd\n",
    "import numpy as np\n",
    "import matplotlib.pyplot as plt"
   ]
  },
  {
   "cell_type": "markdown",
   "metadata": {},
   "source": [
    "# Unzip files"
   ]
  },
  {
   "cell_type": "code",
   "execution_count": 2,
   "metadata": {},
   "outputs": [
    {
     "name": "stdout",
     "output_type": "stream",
     "text": [
      "Archive:  data/original.zip\n",
      "   creating: data/original/\n",
      "  inflating: data/original/Kickstarter040.csv  \n",
      "  inflating: data/original/Kickstarter054.csv  \n",
      "  inflating: data/original/Kickstarter055.csv  \n",
      "  inflating: data/original/Kickstarter041.csv  \n",
      "  inflating: data/original/Kickstarter043.csv  \n",
      "  inflating: data/original/Kickstarter042.csv  \n",
      "  inflating: data/original/Kickstarter052.csv  \n",
      "  inflating: data/original/Kickstarter046.csv  \n",
      "  inflating: data/original/Kickstarter047.csv  \n",
      "  inflating: data/original/Kickstarter053.csv  \n",
      "  inflating: data/original/Kickstarter045.csv  \n",
      "  inflating: data/original/Kickstarter051.csv  \n",
      "  inflating: data/original/Kickstarter050.csv  \n",
      "  inflating: data/original/Kickstarter044.csv  \n",
      "  inflating: data/original/Kickstarter023.csv  \n",
      "  inflating: data/original/Kickstarter037.csv  \n",
      "  inflating: data/original/Kickstarter036.csv  \n",
      "  inflating: data/original/Kickstarter022.csv  \n",
      "  inflating: data/original/Kickstarter008.csv  \n",
      "  inflating: data/original/Kickstarter034.csv  \n",
      "  inflating: data/original/Kickstarter020.csv  \n",
      "  inflating: data/original/Kickstarter021.csv  \n",
      "  inflating: data/original/Kickstarter035.csv  \n",
      "  inflating: data/original/Kickstarter009.csv  \n",
      "  inflating: data/original/Kickstarter031.csv  \n",
      "  inflating: data/original/Kickstarter025.csv  \n",
      "  inflating: data/original/Kickstarter019.csv  \n",
      "  inflating: data/original/Kickstarter018.csv  \n",
      "  inflating: data/original/Kickstarter024.csv  \n",
      "  inflating: data/original/Kickstarter030.csv  \n",
      "  inflating: data/original/Kickstarter026.csv  \n",
      "  inflating: data/original/Kickstarter032.csv  \n",
      "  inflating: data/original/Kickstarter033.csv  \n",
      "  inflating: data/original/Kickstarter027.csv  \n",
      "  inflating: data/original/Kickstarter002.csv  \n",
      "  inflating: data/original/Kickstarter016.csv  \n",
      "  inflating: data/original/Kickstarter017.csv  \n",
      "  inflating: data/original/Kickstarter003.csv  \n",
      "  inflating: data/original/Kickstarter029.csv  \n",
      "  inflating: data/original/Kickstarter015.csv  \n",
      "  inflating: data/original/Kickstarter001.csv  \n",
      "  inflating: data/original/Kickstarter000.csv  \n",
      "  inflating: data/original/Kickstarter014.csv  \n",
      "  inflating: data/original/Kickstarter028.csv  \n",
      "  inflating: data/original/Kickstarter010.csv  \n",
      "  inflating: data/original/Kickstarter004.csv  \n",
      "  inflating: data/original/Kickstarter038.csv  \n",
      "  inflating: data/original/Kickstarter039.csv  \n",
      "  inflating: data/original/Kickstarter005.csv  \n",
      "  inflating: data/original/Kickstarter011.csv  \n",
      "  inflating: data/original/Kickstarter007.csv  \n",
      "  inflating: data/original/Kickstarter013.csv  \n",
      "  inflating: data/original/Kickstarter012.csv  \n",
      "  inflating: data/original/Kickstarter006.csv  \n",
      "  inflating: data/original/Kickstarter049.csv  \n",
      "  inflating: data/original/Kickstarter048.csv  \n"
     ]
    }
   ],
   "source": [
    "!unzip data/original.zip -d data/"
   ]
  },
  {
   "cell_type": "markdown",
   "metadata": {},
   "source": [
    "## Import dataset"
   ]
  },
  {
   "cell_type": "code",
   "execution_count": 3,
   "metadata": {},
   "outputs": [],
   "source": [
    "import glob\n",
    "path = 'data/original/'\n",
    "all_files = glob.glob(path + '*.csv')\n",
    "# list to append csvs\n",
    "l = []\n",
    "# loop over all files\n",
    "for filename in all_files:\n",
    "    df = pd.read_csv(filename, index_col=None, header=0)\n",
    "    l.append(df)\n",
    "\n",
    "# Add all data frames together\n",
    "full_df = pd.concat(l, axis=0, ignore_index=True)"
   ]
  },
  {
   "cell_type": "markdown",
   "metadata": {},
   "source": [
    "# Remove unziped folder"
   ]
  },
  {
   "cell_type": "code",
   "execution_count": 4,
   "metadata": {},
   "outputs": [],
   "source": [
    "!rm -r data/original"
   ]
  },
  {
   "cell_type": "code",
   "execution_count": 5,
   "metadata": {},
   "outputs": [
    {
     "data": {
      "text/html": [
       "<div>\n",
       "<style scoped>\n",
       "    .dataframe tbody tr th:only-of-type {\n",
       "        vertical-align: middle;\n",
       "    }\n",
       "\n",
       "    .dataframe tbody tr th {\n",
       "        vertical-align: top;\n",
       "    }\n",
       "\n",
       "    .dataframe thead th {\n",
       "        text-align: right;\n",
       "    }\n",
       "</style>\n",
       "<table border=\"1\" class=\"dataframe\">\n",
       "  <thead>\n",
       "    <tr style=\"text-align: right;\">\n",
       "      <th></th>\n",
       "      <th>backers_count</th>\n",
       "      <th>blurb</th>\n",
       "      <th>category</th>\n",
       "      <th>converted_pledged_amount</th>\n",
       "      <th>country</th>\n",
       "      <th>created_at</th>\n",
       "      <th>creator</th>\n",
       "      <th>currency</th>\n",
       "      <th>currency_symbol</th>\n",
       "      <th>currency_trailing_code</th>\n",
       "      <th>...</th>\n",
       "      <th>slug</th>\n",
       "      <th>source_url</th>\n",
       "      <th>spotlight</th>\n",
       "      <th>staff_pick</th>\n",
       "      <th>state</th>\n",
       "      <th>state_changed_at</th>\n",
       "      <th>static_usd_rate</th>\n",
       "      <th>urls</th>\n",
       "      <th>usd_pledged</th>\n",
       "      <th>usd_type</th>\n",
       "    </tr>\n",
       "  </thead>\n",
       "  <tbody>\n",
       "    <tr>\n",
       "      <th>0</th>\n",
       "      <td>315</td>\n",
       "      <td>Babalus Shoes</td>\n",
       "      <td>{\"id\":266,\"name\":\"Footwear\",\"slug\":\"fashion/fo...</td>\n",
       "      <td>28645</td>\n",
       "      <td>US</td>\n",
       "      <td>1541459205</td>\n",
       "      <td>{\"id\":2094277840,\"name\":\"Lucy Conroy\",\"slug\":\"...</td>\n",
       "      <td>USD</td>\n",
       "      <td>$</td>\n",
       "      <td>True</td>\n",
       "      <td>...</td>\n",
       "      <td>babalus-childrens-shoes</td>\n",
       "      <td>https://www.kickstarter.com/discover/categorie...</td>\n",
       "      <td>False</td>\n",
       "      <td>False</td>\n",
       "      <td>live</td>\n",
       "      <td>1548223375</td>\n",
       "      <td>1.0</td>\n",
       "      <td>{\"web\":{\"project\":\"https://www.kickstarter.com...</td>\n",
       "      <td>28645.0</td>\n",
       "      <td>international</td>\n",
       "    </tr>\n",
       "    <tr>\n",
       "      <th>1</th>\n",
       "      <td>47</td>\n",
       "      <td>A colorful Dia de los Muertos themed oracle de...</td>\n",
       "      <td>{\"id\":273,\"name\":\"Playing Cards\",\"slug\":\"games...</td>\n",
       "      <td>1950</td>\n",
       "      <td>US</td>\n",
       "      <td>1501684093</td>\n",
       "      <td>{\"id\":723886115,\"name\":\"Lisa Vollrath\",\"slug\":...</td>\n",
       "      <td>USD</td>\n",
       "      <td>$</td>\n",
       "      <td>True</td>\n",
       "      <td>...</td>\n",
       "      <td>the-ofrenda-oracle-deck</td>\n",
       "      <td>https://www.kickstarter.com/discover/categorie...</td>\n",
       "      <td>True</td>\n",
       "      <td>False</td>\n",
       "      <td>successful</td>\n",
       "      <td>1504976459</td>\n",
       "      <td>1.0</td>\n",
       "      <td>{\"web\":{\"project\":\"https://www.kickstarter.com...</td>\n",
       "      <td>1950.0</td>\n",
       "      <td>domestic</td>\n",
       "    </tr>\n",
       "  </tbody>\n",
       "</table>\n",
       "<p>2 rows × 37 columns</p>\n",
       "</div>"
      ],
      "text/plain": [
       "   backers_count                                              blurb  \\\n",
       "0            315                                      Babalus Shoes   \n",
       "1             47  A colorful Dia de los Muertos themed oracle de...   \n",
       "\n",
       "                                            category  \\\n",
       "0  {\"id\":266,\"name\":\"Footwear\",\"slug\":\"fashion/fo...   \n",
       "1  {\"id\":273,\"name\":\"Playing Cards\",\"slug\":\"games...   \n",
       "\n",
       "   converted_pledged_amount country  created_at  \\\n",
       "0                     28645      US  1541459205   \n",
       "1                      1950      US  1501684093   \n",
       "\n",
       "                                             creator currency currency_symbol  \\\n",
       "0  {\"id\":2094277840,\"name\":\"Lucy Conroy\",\"slug\":\"...      USD               $   \n",
       "1  {\"id\":723886115,\"name\":\"Lisa Vollrath\",\"slug\":...      USD               $   \n",
       "\n",
       "   currency_trailing_code  ...                     slug  \\\n",
       "0                    True  ...  babalus-childrens-shoes   \n",
       "1                    True  ...  the-ofrenda-oracle-deck   \n",
       "\n",
       "                                          source_url  spotlight staff_pick  \\\n",
       "0  https://www.kickstarter.com/discover/categorie...      False      False   \n",
       "1  https://www.kickstarter.com/discover/categorie...       True      False   \n",
       "\n",
       "        state  state_changed_at  static_usd_rate  \\\n",
       "0        live        1548223375              1.0   \n",
       "1  successful        1504976459              1.0   \n",
       "\n",
       "                                                urls  usd_pledged  \\\n",
       "0  {\"web\":{\"project\":\"https://www.kickstarter.com...      28645.0   \n",
       "1  {\"web\":{\"project\":\"https://www.kickstarter.com...       1950.0   \n",
       "\n",
       "        usd_type  \n",
       "0  international  \n",
       "1       domestic  \n",
       "\n",
       "[2 rows x 37 columns]"
      ]
     },
     "execution_count": 5,
     "metadata": {},
     "output_type": "execute_result"
    }
   ],
   "source": [
    "full_df.head(2)"
   ]
  },
  {
   "cell_type": "code",
   "execution_count": 6,
   "metadata": {},
   "outputs": [
    {
     "data": {
      "text/plain": [
       "Index(['backers_count', 'blurb', 'category', 'converted_pledged_amount',\n",
       "       'country', 'created_at', 'creator', 'currency', 'currency_symbol',\n",
       "       'currency_trailing_code', 'current_currency', 'deadline',\n",
       "       'disable_communication', 'friends', 'fx_rate', 'goal', 'id',\n",
       "       'is_backing', 'is_starrable', 'is_starred', 'launched_at', 'location',\n",
       "       'name', 'permissions', 'photo', 'pledged', 'profile', 'slug',\n",
       "       'source_url', 'spotlight', 'staff_pick', 'state', 'state_changed_at',\n",
       "       'static_usd_rate', 'urls', 'usd_pledged', 'usd_type'],\n",
       "      dtype='object')"
      ]
     },
     "execution_count": 6,
     "metadata": {},
     "output_type": "execute_result"
    }
   ],
   "source": [
    "full_df.columns"
   ]
  },
  {
   "cell_type": "markdown",
   "metadata": {},
   "source": [
    "## Features\n",
    "* backers_count (number of supporters)\n",
    "* blurb (explanation of project)\n",
    "* category (category of project with: id, name, ...)\n",
    "* converted_pledged_amount (pledged amount in usd)\n",
    "* country (country of project)\n",
    "* created_at (time created, check in what)\n",
    "* creator (creator of project with: id, name, ...)\n",
    "* currency (currency used)\n",
    "* currency_symbol (symbol of currency)\n",
    "* currency_trailing_code (only True if dollar)\n",
    "* current_currency (current amount in usd)\n",
    "* deadline (time to end project, check in what)\n",
    "* disable_communication (no conv between backers and project?)\n",
    "* friends \n",
    "* fx_rate (wechselkurs)\n",
    "* goal (goal of campaign (in usd?))\n",
    "* id (id of project)\n",
    "* is_backing\n",
    "* is_starrable\n",
    "* is_starred (maybe how many people looked at project?)\n",
    "* launched_at (launching date)\n",
    "* location (location of project with: id, name, slug)\n",
    "* name (name of the project)\n",
    "* permissions\n",
    "* photo (assets, not existing)\n",
    "* pledged (money pledged)\n",
    "* profile\n",
    "* slug (slogan)\n",
    "* source_url (url of source)\n",
    "* spotlight (kickstarter webpage)\n",
    "* staff_pick (webpage to highlight projects)\n",
    "* state (state of project)\n",
    "* state_changed_at (time state changed, in what?)\n",
    "* static_usd_rate (wieder wechselkurs?)\n",
    "* urls\n",
    "* usd_pledged (amount collected at end of campaign in usd)\n",
    "* usd_type (international, domestic)"
   ]
  },
  {
   "cell_type": "markdown",
   "metadata": {},
   "source": [
    "## Project Goal\n",
    "Check if kickstarter projects work or not, if not maybe give advice why."
   ]
  },
  {
   "cell_type": "code",
   "execution_count": 7,
   "metadata": {},
   "outputs": [
    {
     "data": {
      "image/png": "[encoded data removed]",
      "text/plain": [
       "<Figure size 432x288 with 1 Axes>"
      ]
     },
     "metadata": {
      "needs_background": "light"
     },
     "output_type": "display_data"
    }
   ],
   "source": [
    "full_df.state.value_counts().plot(kind='bar');"
   ]
  },
  {
   "cell_type": "markdown",
   "metadata": {},
   "source": [
    "Only states of interest are successful and failed. Canceled is unpredictiable, live is not known yet, and suspended is not enough data.\\\n",
    "__Remove__ canceled, live and suspended!"
   ]
  },
  {
   "cell_type": "code",
   "execution_count": 8,
   "metadata": {},
   "outputs": [],
   "source": [
    "full_df = full_df.query('state != \"live\"').query('state != \"suspended\"').query('state != \"canceled\"')"
   ]
  },
  {
   "cell_type": "markdown",
   "metadata": {},
   "source": [
    "## Check Currencies"
   ]
  },
  {
   "cell_type": "code",
   "execution_count": 9,
   "metadata": {},
   "outputs": [
    {
     "data": {
      "text/html": [
       "<div>\n",
       "<style scoped>\n",
       "    .dataframe tbody tr th:only-of-type {\n",
       "        vertical-align: middle;\n",
       "    }\n",
       "\n",
       "    .dataframe tbody tr th {\n",
       "        vertical-align: top;\n",
       "    }\n",
       "\n",
       "    .dataframe thead th {\n",
       "        text-align: right;\n",
       "    }\n",
       "</style>\n",
       "<table border=\"1\" class=\"dataframe\">\n",
       "  <thead>\n",
       "    <tr style=\"text-align: right;\">\n",
       "      <th></th>\n",
       "      <th>country</th>\n",
       "      <th>converted_pledged_amount</th>\n",
       "      <th>currency</th>\n",
       "      <th>current_currency</th>\n",
       "      <th>fx_rate</th>\n",
       "      <th>static_usd_rate</th>\n",
       "      <th>goal</th>\n",
       "      <th>pledged</th>\n",
       "      <th>usd_pledged</th>\n",
       "      <th>usd_type</th>\n",
       "    </tr>\n",
       "  </thead>\n",
       "  <tbody>\n",
       "    <tr>\n",
       "      <th>1</th>\n",
       "      <td>US</td>\n",
       "      <td>1950</td>\n",
       "      <td>USD</td>\n",
       "      <td>USD</td>\n",
       "      <td>1.000000</td>\n",
       "      <td>1.000000</td>\n",
       "      <td>1000.0</td>\n",
       "      <td>1950.0</td>\n",
       "      <td>1950.000000</td>\n",
       "      <td>domestic</td>\n",
       "    </tr>\n",
       "    <tr>\n",
       "      <th>2</th>\n",
       "      <td>US</td>\n",
       "      <td>22404</td>\n",
       "      <td>USD</td>\n",
       "      <td>USD</td>\n",
       "      <td>1.000000</td>\n",
       "      <td>1.000000</td>\n",
       "      <td>15000.0</td>\n",
       "      <td>22404.0</td>\n",
       "      <td>22404.000000</td>\n",
       "      <td>international</td>\n",
       "    </tr>\n",
       "    <tr>\n",
       "      <th>3</th>\n",
       "      <td>GB</td>\n",
       "      <td>165</td>\n",
       "      <td>GBP</td>\n",
       "      <td>USD</td>\n",
       "      <td>1.308394</td>\n",
       "      <td>1.216066</td>\n",
       "      <td>10000.0</td>\n",
       "      <td>136.0</td>\n",
       "      <td>165.384934</td>\n",
       "      <td>domestic</td>\n",
       "    </tr>\n",
       "    <tr>\n",
       "      <th>4</th>\n",
       "      <td>US</td>\n",
       "      <td>2820</td>\n",
       "      <td>USD</td>\n",
       "      <td>USD</td>\n",
       "      <td>1.000000</td>\n",
       "      <td>1.000000</td>\n",
       "      <td>2800.0</td>\n",
       "      <td>2820.0</td>\n",
       "      <td>2820.000000</td>\n",
       "      <td>domestic</td>\n",
       "    </tr>\n",
       "    <tr>\n",
       "      <th>5</th>\n",
       "      <td>US</td>\n",
       "      <td>3725</td>\n",
       "      <td>USD</td>\n",
       "      <td>USD</td>\n",
       "      <td>1.000000</td>\n",
       "      <td>1.000000</td>\n",
       "      <td>3500.0</td>\n",
       "      <td>3725.0</td>\n",
       "      <td>3725.000000</td>\n",
       "      <td>domestic</td>\n",
       "    </tr>\n",
       "    <tr>\n",
       "      <th>6</th>\n",
       "      <td>US</td>\n",
       "      <td>3890</td>\n",
       "      <td>USD</td>\n",
       "      <td>USD</td>\n",
       "      <td>1.000000</td>\n",
       "      <td>1.000000</td>\n",
       "      <td>2500.0</td>\n",
       "      <td>3890.0</td>\n",
       "      <td>3890.000000</td>\n",
       "      <td>domestic</td>\n",
       "    </tr>\n",
       "    <tr>\n",
       "      <th>7</th>\n",
       "      <td>US</td>\n",
       "      <td>660</td>\n",
       "      <td>USD</td>\n",
       "      <td>USD</td>\n",
       "      <td>1.000000</td>\n",
       "      <td>1.000000</td>\n",
       "      <td>400.0</td>\n",
       "      <td>660.0</td>\n",
       "      <td>660.000000</td>\n",
       "      <td>international</td>\n",
       "    </tr>\n",
       "    <tr>\n",
       "      <th>8</th>\n",
       "      <td>GB</td>\n",
       "      <td>540</td>\n",
       "      <td>GBP</td>\n",
       "      <td>USD</td>\n",
       "      <td>1.308394</td>\n",
       "      <td>1.412765</td>\n",
       "      <td>375.0</td>\n",
       "      <td>375.0</td>\n",
       "      <td>529.786729</td>\n",
       "      <td>international</td>\n",
       "    </tr>\n",
       "    <tr>\n",
       "      <th>9</th>\n",
       "      <td>GB</td>\n",
       "      <td>2552</td>\n",
       "      <td>GBP</td>\n",
       "      <td>USD</td>\n",
       "      <td>1.308394</td>\n",
       "      <td>1.287697</td>\n",
       "      <td>380.0</td>\n",
       "      <td>1954.0</td>\n",
       "      <td>2516.160602</td>\n",
       "      <td>international</td>\n",
       "    </tr>\n",
       "    <tr>\n",
       "      <th>10</th>\n",
       "      <td>US</td>\n",
       "      <td>0</td>\n",
       "      <td>USD</td>\n",
       "      <td>USD</td>\n",
       "      <td>1.000000</td>\n",
       "      <td>1.000000</td>\n",
       "      <td>150000.0</td>\n",
       "      <td>0.0</td>\n",
       "      <td>0.000000</td>\n",
       "      <td>domestic</td>\n",
       "    </tr>\n",
       "  </tbody>\n",
       "</table>\n",
       "</div>"
      ],
      "text/plain": [
       "   country  converted_pledged_amount currency current_currency   fx_rate  \\\n",
       "1       US                      1950      USD              USD  1.000000   \n",
       "2       US                     22404      USD              USD  1.000000   \n",
       "3       GB                       165      GBP              USD  1.308394   \n",
       "4       US                      2820      USD              USD  1.000000   \n",
       "5       US                      3725      USD              USD  1.000000   \n",
       "6       US                      3890      USD              USD  1.000000   \n",
       "7       US                       660      USD              USD  1.000000   \n",
       "8       GB                       540      GBP              USD  1.308394   \n",
       "9       GB                      2552      GBP              USD  1.308394   \n",
       "10      US                         0      USD              USD  1.000000   \n",
       "\n",
       "    static_usd_rate      goal  pledged   usd_pledged       usd_type  \n",
       "1          1.000000    1000.0   1950.0   1950.000000       domestic  \n",
       "2          1.000000   15000.0  22404.0  22404.000000  international  \n",
       "3          1.216066   10000.0    136.0    165.384934       domestic  \n",
       "4          1.000000    2800.0   2820.0   2820.000000       domestic  \n",
       "5          1.000000    3500.0   3725.0   3725.000000       domestic  \n",
       "6          1.000000    2500.0   3890.0   3890.000000       domestic  \n",
       "7          1.000000     400.0    660.0    660.000000  international  \n",
       "8          1.412765     375.0    375.0    529.786729  international  \n",
       "9          1.287697     380.0   1954.0   2516.160602  international  \n",
       "10         1.000000  150000.0      0.0      0.000000       domestic  "
      ]
     },
     "execution_count": 9,
     "metadata": {},
     "output_type": "execute_result"
    }
   ],
   "source": [
    "full_df[['country', 'converted_pledged_amount', 'currency', 'current_currency', 'fx_rate', 'static_usd_rate', 'goal', 'pledged', 'usd_pledged', 'usd_type']].head(10)"
   ]
  },
  {
   "cell_type": "markdown",
   "metadata": {},
   "source": [
    "'converted_pledged_amount' is the amount of money in usd with fluctuations in fx rate taken into account, while 'usd_pledged' is the amount in usd calculated with last given rate.\\\n",
    "'usd_type' decides if only sold in country (domestic) or also shipped into other countries (international)."
   ]
  },
  {
   "cell_type": "code",
   "execution_count": 10,
   "metadata": {},
   "outputs": [
    {
     "data": {
      "image/png": "[encoded data removed]",
      "text/plain": [
       "<Figure size 432x288 with 1 Axes>"
      ]
     },
     "metadata": {
      "needs_background": "light"
     },
     "output_type": "display_data"
    }
   ],
   "source": [
    "full_df.currency.value_counts().plot(kind='bar');"
   ]
  },
  {
   "cell_type": "code",
   "execution_count": 11,
   "metadata": {},
   "outputs": [
    {
     "data": {
      "image/png": "[encoded data removed]",
      "text/plain": [
       "<Figure size 432x288 with 1 Axes>"
      ]
     },
     "metadata": {
      "needs_background": "light"
     },
     "output_type": "display_data"
    }
   ],
   "source": [
    "full_df.plot.scatter(x='country', y='currency');"
   ]
  },
  {
   "cell_type": "markdown",
   "metadata": {},
   "source": [
    "## Overview"
   ]
  },
  {
   "cell_type": "code",
   "execution_count": 12,
   "metadata": {},
   "outputs": [
    {
     "name": "stdout",
     "output_type": "stream",
     "text": [
      "#### Kickstarter set ####\n",
      "# of observations: 192664\n",
      "# of features:         37\n"
     ]
    }
   ],
   "source": [
    "print('#### Kickstarter set ####')\n",
    "print('# of observations: {}'.format(full_df.shape[0]))\n",
    "print('# of features:         {}'.format(full_df.shape[1]))"
   ]
  },
  {
   "cell_type": "code",
   "execution_count": 13,
   "metadata": {},
   "outputs": [
    {
     "data": {
      "text/plain": [
       "backers_count                    0\n",
       "blurb                            2\n",
       "category                         0\n",
       "converted_pledged_amount         0\n",
       "country                          0\n",
       "created_at                       0\n",
       "creator                          0\n",
       "currency                         0\n",
       "currency_symbol                  0\n",
       "currency_trailing_code           0\n",
       "current_currency                 0\n",
       "deadline                         0\n",
       "disable_communication            0\n",
       "friends                     192664\n",
       "fx_rate                          0\n",
       "goal                             0\n",
       "id                               0\n",
       "is_backing                  192664\n",
       "is_starrable                     0\n",
       "is_starred                  192664\n",
       "launched_at                      0\n",
       "location                       215\n",
       "name                             0\n",
       "permissions                 192664\n",
       "photo                            0\n",
       "pledged                          0\n",
       "profile                          0\n",
       "slug                             0\n",
       "source_url                       0\n",
       "spotlight                        0\n",
       "staff_pick                       0\n",
       "state                            0\n",
       "state_changed_at                 0\n",
       "static_usd_rate                  0\n",
       "urls                             0\n",
       "usd_pledged                      0\n",
       "usd_type                        38\n",
       "dtype: int64"
      ]
     },
     "execution_count": 13,
     "metadata": {},
     "output_type": "execute_result"
    }
   ],
   "source": [
    "# Missing Values\n",
    "full_df.isna().sum()"
   ]
  },
  {
   "cell_type": "markdown",
   "metadata": {},
   "source": [
    "__remove__ friends, is_backing, is_starred, permissions because they have only NANs"
   ]
  },
  {
   "cell_type": "code",
   "execution_count": 14,
   "metadata": {},
   "outputs": [],
   "source": [
    "full_df.drop(['friends', 'is_backing', 'is_starred', 'permissions'], axis=1, inplace=True)"
   ]
  },
  {
   "cell_type": "code",
   "execution_count": 15,
   "metadata": {},
   "outputs": [
    {
     "name": "stdout",
     "output_type": "stream",
     "text": [
      "<class 'pandas.core.frame.DataFrame'>\n",
      "Int64Index: 192664 entries, 1 to 209221\n",
      "Data columns (total 33 columns):\n",
      " #   Column                    Non-Null Count   Dtype  \n",
      "---  ------                    --------------   -----  \n",
      " 0   backers_count             192664 non-null  int64  \n",
      " 1   blurb                     192662 non-null  object \n",
      " 2   category                  192664 non-null  object \n",
      " 3   converted_pledged_amount  192664 non-null  int64  \n",
      " 4   country                   192664 non-null  object \n",
      " 5   created_at                192664 non-null  int64  \n",
      " 6   creator                   192664 non-null  object \n",
      " 7   currency                  192664 non-null  object \n",
      " 8   currency_symbol           192664 non-null  object \n",
      " 9   currency_trailing_code    192664 non-null  bool   \n",
      " 10  current_currency          192664 non-null  object \n",
      " 11  deadline                  192664 non-null  int64  \n",
      " 12  disable_communication     192664 non-null  bool   \n",
      " 13  fx_rate                   192664 non-null  float64\n",
      " 14  goal                      192664 non-null  float64\n",
      " 15  id                        192664 non-null  int64  \n",
      " 16  is_starrable              192664 non-null  bool   \n",
      " 17  launched_at               192664 non-null  int64  \n",
      " 18  location                  192449 non-null  object \n",
      " 19  name                      192664 non-null  object \n",
      " 20  photo                     192664 non-null  object \n",
      " 21  pledged                   192664 non-null  float64\n",
      " 22  profile                   192664 non-null  object \n",
      " 23  slug                      192664 non-null  object \n",
      " 24  source_url                192664 non-null  object \n",
      " 25  spotlight                 192664 non-null  bool   \n",
      " 26  staff_pick                192664 non-null  bool   \n",
      " 27  state                     192664 non-null  object \n",
      " 28  state_changed_at          192664 non-null  int64  \n",
      " 29  static_usd_rate           192664 non-null  float64\n",
      " 30  urls                      192664 non-null  object \n",
      " 31  usd_pledged               192664 non-null  float64\n",
      " 32  usd_type                  192626 non-null  object \n",
      "dtypes: bool(5), float64(5), int64(7), object(16)\n",
      "memory usage: 43.5+ MB\n"
     ]
    }
   ],
   "source": [
    "full_df.info()"
   ]
  },
  {
   "cell_type": "markdown",
   "metadata": {},
   "source": [
    "## Check distributions of bools"
   ]
  },
  {
   "cell_type": "code",
   "execution_count": 16,
   "metadata": {},
   "outputs": [
    {
     "name": "stdout",
     "output_type": "stream",
     "text": [
      "## Disable communtication values ##\n",
      "False    192664\n",
      "Name: disable_communication, dtype: int64\n"
     ]
    }
   ],
   "source": [
    "print('## Disable communtication values ##')\n",
    "print(full_df.disable_communication.value_counts())\n",
    "full_df.drop('disable_communication', axis=1, inplace=True)"
   ]
  },
  {
   "cell_type": "markdown",
   "metadata": {},
   "source": [
    "The data is too unbalanced, __remove__ feature!"
   ]
  },
  {
   "cell_type": "code",
   "execution_count": 17,
   "metadata": {},
   "outputs": [
    {
     "name": "stdout",
     "output_type": "stream",
     "text": [
      "## Is starrable values ##\n",
      "False    192664\n",
      "Name: is_starrable, dtype: int64\n"
     ]
    }
   ],
   "source": [
    "print('## Is starrable values ##')\n",
    "print(full_df.is_starrable.value_counts())\n",
    "full_df.drop('is_starrable', axis=1, inplace=True)"
   ]
  },
  {
   "cell_type": "markdown",
   "metadata": {},
   "source": [
    "The data is too unbalanced, __remove__ feature!"
   ]
  },
  {
   "cell_type": "code",
   "execution_count": 18,
   "metadata": {},
   "outputs": [
    {
     "name": "stdout",
     "output_type": "stream",
     "text": [
      "## spotlight values ##\n",
      "True     117465\n",
      "False     75199\n",
      "Name: spotlight, dtype: int64\n"
     ]
    }
   ],
   "source": [
    "print('## spotlight values ##')\n",
    "print(full_df.spotlight.value_counts())"
   ]
  },
  {
   "cell_type": "code",
   "execution_count": 19,
   "metadata": {},
   "outputs": [
    {
     "name": "stdout",
     "output_type": "stream",
     "text": [
      "## staff_pick values ##\n",
      "False    166671\n",
      "True      25993\n",
      "Name: staff_pick, dtype: int64\n"
     ]
    }
   ],
   "source": [
    "print('## staff_pick values ##')\n",
    "print(full_df.staff_pick.value_counts())"
   ]
  },
  {
   "cell_type": "code",
   "execution_count": 20,
   "metadata": {},
   "outputs": [
    {
     "name": "stdout",
     "output_type": "stream",
     "text": [
      "## Compare name & slug ##\n",
      "The Ofrenda Oracle Deck\n",
      "the-ofrenda-oracle-deck\n"
     ]
    }
   ],
   "source": [
    "print('## Compare name & slug ##')\n",
    "print(full_df.name.values[0])\n",
    "print(full_df.slug.values[0])\n",
    "full_df.drop('name', axis=1, inplace=True)"
   ]
  },
  {
   "cell_type": "markdown",
   "metadata": {},
   "source": [
    "Same information in both features, slug is more python friendly, __remove__ name!"
   ]
  },
  {
   "cell_type": "markdown",
   "metadata": {},
   "source": [
    "## Remove features"
   ]
  },
  {
   "cell_type": "markdown",
   "metadata": {},
   "source": [
    "__Remove__ following features, because they are not of interest:\n",
    "* creator\n",
    "* currency_symbol\n",
    "* currency_trailing_code\n",
    "* id\n",
    "* location\n",
    "* photo\n",
    "* profile\n",
    "* source_url\n",
    "* urls"
   ]
  },
  {
   "cell_type": "code",
   "execution_count": 21,
   "metadata": {},
   "outputs": [],
   "source": [
    "full_df.drop(['creator', 'currency_symbol', 'currency_trailing_code', 'id', 'location', 'photo', 'profile', 'source_url', 'urls'], axis=1, inplace=True)"
   ]
  },
  {
   "cell_type": "markdown",
   "metadata": {},
   "source": [
    "## Feature blurb\n",
    "Turn explanation of project to word count of explanation."
   ]
  },
  {
   "cell_type": "code",
   "execution_count": 22,
   "metadata": {},
   "outputs": [],
   "source": [
    "expl = full_df.blurb.values\n",
    "\n",
    "word_count = [len(str(i).split(' ')) for i in expl]\n",
    "\n",
    "full_df['word_count'] = word_count"
   ]
  },
  {
   "cell_type": "markdown",
   "metadata": {},
   "source": [
    "## Feature category\n",
    "Grep name from category feature and use it as new category feature!"
   ]
  },
  {
   "cell_type": "code",
   "execution_count": 23,
   "metadata": {},
   "outputs": [],
   "source": [
    "import json\n",
    "# turn str to dict\n",
    "to_dict = [json.loads(i) for i in full_df.category.values]\n",
    "# get name entry\n",
    "category = [i['slug'].split('/')[0] for i in to_dict]\n",
    "\n",
    "full_df['category'] = category"
   ]
  },
  {
   "cell_type": "code",
   "execution_count": 24,
   "metadata": {},
   "outputs": [
    {
     "data": {
      "text/plain": [
       "array(['games', 'music', 'publishing', 'theater', 'fashion', 'food',\n",
       "       'photography', 'art', 'technology', 'dance', 'design',\n",
       "       'film & video', 'crafts', 'comics', 'journalism'], dtype=object)"
      ]
     },
     "execution_count": 24,
     "metadata": {},
     "output_type": "execute_result"
    }
   ],
   "source": [
    "full_df.category.unique()"
   ]
  },
  {
   "cell_type": "markdown",
   "metadata": {},
   "source": [
    "## Date Features\n",
    "Use datetime to convert full_date to eg:\n",
    "* year, day, month (.year)\n",
    "* duration: (time1-time2).days"
   ]
  },
  {
   "cell_type": "code",
   "execution_count": 25,
   "metadata": {},
   "outputs": [],
   "source": [
    "from datetime import date\n",
    "import datetime\n",
    "\n",
    "full_df['deadline'] = [date.fromtimestamp(d) for d in full_df.deadline.values]\n",
    "full_df['created_at'] = [date.fromtimestamp(d) for d in full_df.created_at.values]\n",
    "full_df['launched_at'] = [date.fromtimestamp(d) for d in full_df.launched_at.values]\n",
    "full_df['state_changed_at'] = [date.fromtimestamp(d) for d in full_df.state_changed_at.values]"
   ]
  },
  {
   "cell_type": "markdown",
   "metadata": {},
   "source": [
    "## Remove final nans"
   ]
  },
  {
   "cell_type": "code",
   "execution_count": 26,
   "metadata": {},
   "outputs": [
    {
     "data": {
      "text/plain": [
       "backers_count                0\n",
       "blurb                        2\n",
       "category                     0\n",
       "converted_pledged_amount     0\n",
       "country                      0\n",
       "created_at                   0\n",
       "currency                     0\n",
       "current_currency             0\n",
       "deadline                     0\n",
       "fx_rate                      0\n",
       "goal                         0\n",
       "launched_at                  0\n",
       "pledged                      0\n",
       "slug                         0\n",
       "spotlight                    0\n",
       "staff_pick                   0\n",
       "state                        0\n",
       "state_changed_at             0\n",
       "static_usd_rate              0\n",
       "usd_pledged                  0\n",
       "usd_type                    38\n",
       "word_count                   0\n",
       "dtype: int64"
      ]
     },
     "execution_count": 26,
     "metadata": {},
     "output_type": "execute_result"
    }
   ],
   "source": [
    "# Missing Values\n",
    "full_df.isna().sum()"
   ]
  },
  {
   "cell_type": "markdown",
   "metadata": {},
   "source": [
    "Not many, just remove all entries."
   ]
  },
  {
   "cell_type": "code",
   "execution_count": 27,
   "metadata": {},
   "outputs": [],
   "source": [
    "full_df = full_df.dropna()"
   ]
  },
  {
   "cell_type": "markdown",
   "metadata": {},
   "source": [
    "## Save data to new file"
   ]
  },
  {
   "cell_type": "code",
   "execution_count": 28,
   "metadata": {},
   "outputs": [
    {
     "name": "stdout",
     "output_type": "stream",
     "text": [
      "## New Datasets ##\n",
      "# of obs in train set: 173361\n",
      "# of obs in test set:  19263\n",
      "# of features:         22\n"
     ]
    }
   ],
   "source": [
    "# Turn data to train and test set\n",
    "from sklearn.model_selection import train_test_split\n",
    "\n",
    "train, test = train_test_split(full_df, test_size=0.1, random_state=0)\n",
    "print('## New Datasets ##')\n",
    "print('# of obs in train set: {}'.format(train.shape[0]))\n",
    "print('# of obs in test set:  {}'.format(test.shape[0]))\n",
    "print('# of features:         {}'.format(train.shape[1]))"
   ]
  },
  {
   "cell_type": "code",
   "execution_count": 29,
   "metadata": {},
   "outputs": [],
   "source": [
    "# save into three chunks (else size is too big for github)\n",
    "for i, df_i in enumerate(np.array_split(train, 3)):\n",
    "    df_i.to_csv('data/final/train/kickstarter_final_train_' + str(i) + '.csv', index=False)\n",
    "for i, df_i in enumerate(np.array_split(test, 3)):\n",
    "    df_i.to_csv('data/final/test/kickstarter_final_test_' + str(i) + '.csv', index=False)\n",
    "for i, df_i in enumerate(np.array_split(full_df, 3)):\n",
    "    df_i.to_csv('data/final/full/kickstarter_final_' + str(i) + '.csv', index=False)"
   ]
  },
  {
   "cell_type": "code",
   "execution_count": null,
   "metadata": {},
   "outputs": [],
   "source": []
  }
 ],
 "metadata": {
  "kernelspec": {
   "display_name": "Python [conda env:nf] *",
   "language": "python",
   "name": "conda-env-nf-py"
  },
  "language_info": {
   "codemirror_mode": {
    "name": "ipython",
    "version": 3
   },
   "file_extension": ".py",
   "mimetype": "text/x-python",
   "name": "python",
   "nbconvert_exporter": "python",
   "pygments_lexer": "ipython3",
   "version": "3.6.10"
  }
 },
 "nbformat": 4,
 "nbformat_minor": 4
}
